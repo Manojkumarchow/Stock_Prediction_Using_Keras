{
 "cells": [
  {
   "cell_type": "code",
   "execution_count": null,
   "metadata": {
    "colab": {
     "base_uri": "https://localhost:8080/",
     "height": 35
    },
    "colab_type": "code",
    "id": "nzla9LM7PFfr",
    "outputId": "9660e973-cb21-4cba-ed32-c50c1245a219"
   },
   "outputs": [],
   "source": [
    "# Importing the required packages.\n",
    "import pandas as pd # for file manipulation.\n",
    "import matplotlib.pyplot as plt # Visualization.\n",
    "from sklearn.preprocessing import MinMaxScaler\n",
    "import numpy as np # Scientific Computing.\n",
    "from keras.models import Sequential # Deep Learning Library.\n",
    "from keras.layers import Dense, LSTM, Dropout, Activation\n",
    "import math\n",
    "from sklearn.metrics import mean_squared_error\n",
    "from sklearn.metrics import accuracy_score\n",
    "from sklearn.metrics import mean_absolute_error\n",
    "import time"
   ]
  },
  {
   "cell_type": "code",
   "execution_count": null,
   "metadata": {
    "colab": {
     "base_uri": "https://localhost:8080/",
     "height": 879
    },
    "colab_type": "code",
    "id": "1yoXkZk6ShoG",
    "outputId": "ebd995e7-88a3-4d56-bf00-c7955eaa4364"
   },
   "outputs": [],
   "source": [
    "# Reading the data using pandas.\n",
    "data = pd.read_csv('TSLA.csv')\n",
    "# data.tail()"
   ]
  },
  {
   "cell_type": "code",
   "execution_count": null,
   "metadata": {
    "colab": {},
    "colab_type": "code",
    "id": "dUX492YMT4_q"
   },
   "outputs": [],
   "source": [
    "# Dropping the value of index 0, since LSTM does not consider the index value 0.\n",
    "data = data.drop(data.index[0])\n",
    "# data.head()"
   ]
  },
  {
   "cell_type": "code",
   "execution_count": null,
   "metadata": {
    "colab": {},
    "colab_type": "code",
    "id": "oAs9RoUUUaSY"
   },
   "outputs": [],
   "source": [
    "# Dropping the Date Column, since it is a useless data.\n",
    "data = data.drop(['Date'], axis=1)\n",
    "# data.head()"
   ]
  },
  {
   "cell_type": "code",
   "execution_count": null,
   "metadata": {
    "colab": {},
    "colab_type": "code",
    "id": "_oD_7UfxU5Nm"
   },
   "outputs": [],
   "source": [
    "# Splitting the columns for input and Output.\n",
    "initial = data.iloc[:,1:]\n",
    "# initial.head()"
   ]
  },
  {
   "cell_type": "code",
   "execution_count": null,
   "metadata": {
    "colab": {},
    "colab_type": "code",
    "id": "MZIyTpYYU0jz"
   },
   "outputs": [],
   "source": [
    "# Open Column as the Output.\n",
    "target = data.iloc[:, 0]\n",
    "# target.head()"
   ]
  },
  {
   "cell_type": "code",
   "execution_count": null,
   "metadata": {
    "colab": {},
    "colab_type": "code",
    "id": "A477YqpeVojs"
   },
   "outputs": [],
   "source": [
    "# Making the attributes(Features) into a numPY array.\n",
    "initial = initial.values\n",
    "initial = initial.astype('float32')\n",
    "# print(initial)"
   ]
  },
  {
   "cell_type": "code",
   "execution_count": null,
   "metadata": {
    "colab": {},
    "colab_type": "code",
    "id": "4T36Vi8SXgvi"
   },
   "outputs": [],
   "source": [
    "# Scaling the Data using MinMaxScaler.\n",
    "scale = MinMaxScaler(feature_range = (0, 1))\n",
    "# print(scale1)\n",
    "initial = scale.fit_transform(data)\n",
    "# print(initial)"
   ]
  },
  {
   "cell_type": "code",
   "execution_count": null,
   "metadata": {
    "colab": {},
    "colab_type": "code",
    "id": "gAm1Yfx-ZJZF"
   },
   "outputs": [],
   "source": [
    "# Making the output into a numPY array.\n",
    "target = target.values"
   ]
  },
  {
   "cell_type": "code",
   "execution_count": null,
   "metadata": {
    "colab": {},
    "colab_type": "code",
    "id": "47flkEAPZRK4"
   },
   "outputs": [],
   "source": [
    "from sklearn.model_selection import train_test_split\n",
    "# Splitting the data into training and testing data.# Printing the Shape of the Data (Training and Testing Data).\n",
    "X_train, X_test, Y_train, Y_test = train_test_split(initial, target, test_size=0.25, random_state=42)\n",
    "# Printing the Shape of the Data (Training and Testing Data).\n",
    "print(\"Shape of X_Train:\", X_train.shape)\n",
    "print(\"Shape of X_Test:\", X_test.shape)\n",
    "print(\"Shape of Y_Train:\", Y_train.shape)\n",
    "print(\"Shape of Y_Train:\", Y_test.shape)\n",
    "# Since the neural networks takes the 3D array as an input we should change the dimensions of the input \n",
    "# by using the np.reshape() function'''\n",
    "print(\"After Reshaping:\")\n",
    "X_train = np.reshape(X_train,(X_train.shape[0],1,X_train.shape[1]))\n",
    "X_test = np.reshape(X_test,(X_test.shape[0],1,X_test.shape[1]))\n",
    "print(\"Shape of X_Train:\", X_train.shape)\n",
    "print(\"Shape of X_Test:\", X_test.shape)\n",
    "print(\"Shape of Y_Train:\", Y_train.shape)\n",
    "print(\"Shape of Y_Train:\", Y_test.shape)"
   ]
  },
  {
   "cell_type": "code",
   "execution_count": null,
   "metadata": {
    "colab": {},
    "colab_type": "code",
    "id": "Ns4od6BFaihA"
   },
   "outputs": [],
   "source": [
    "model = Sequential() # Sequential Model\n",
    "# We'll be using the LSTM for our analysis, since it is a time-series data.\n",
    "model.add(LSTM(100,use_bias=True,recurrent_activation='hard_sigmoid',\n",
    "               return_sequences=True))\n",
    "model.add(Dropout(0.1)) # Dropout Layer for Regularization.\n",
    "\n",
    "model.add(LSTM(100,use_bias=True,recurrent_activation='hard_sigmoid',\n",
    "               return_sequences=True))\n",
    "model.add(Dropout(0.1))\n",
    "\n",
    "model.add(LSTM(100,use_bias=True,\n",
    "    return_sequences=False))\n",
    "model.add(Dropout(0.1))\n",
    "\n",
    "\n",
    "model.add(Dense(1))\n",
    "model.add(Activation('relu')) # Activation function.\n",
    "\n",
    "start = time.time()\n",
    "# Compiling the model.\n",
    "model.compile(loss='mean_absolute_error', optimizer='sgd', metrics=['accuracy'])\n",
    "print('compilation time : ', time.time() - start)"
   ]
  },
  {
   "cell_type": "code",
   "execution_count": null,
   "metadata": {},
   "outputs": [],
   "source": [
    "# fitting our data into the model.\n",
    "model.fit(X_train, Y_train, epochs=1000, batch_size=32, validation_split=0.05)"
   ]
  },
  {
   "cell_type": "code",
   "execution_count": null,
   "metadata": {},
   "outputs": [],
   "source": [
    "Predict = model.predict(X_test)\n",
    "print(Predict[[0]])\n",
    "testScore = math.sqrt(mean_absolute_error(Y_test, Predict))\n",
    "print('Test Score: %.2f Error' % (testScore))\n",
    "accu = accuracy_score(X_test, Y_test)\n",
    "print(\"Accuracy: \", accu)\n",
    "plt.plot(Y_test)\n",
    "plt.plot(Predict)\n",
    "plt.legend(['Original value','Predicted value'],loc='upper right')\n",
    "plt.show()"
   ]
  }
 ],
 "metadata": {
  "colab": {
   "collapsed_sections": [],
   "name": "Stock_Again.ipynb",
   "provenance": [],
   "version": "0.3.2"
  },
  "kernelspec": {
   "display_name": "Python 3",
   "language": "python",
   "name": "python3"
  },
  "language_info": {
   "codemirror_mode": {
    "name": "ipython",
    "version": 3
   },
   "file_extension": ".py",
   "mimetype": "text/x-python",
   "name": "python",
   "nbconvert_exporter": "python",
   "pygments_lexer": "ipython3",
   "version": "3.6.8"
  }
 },
 "nbformat": 4,
 "nbformat_minor": 1
}
